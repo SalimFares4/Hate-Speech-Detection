{
 "cells": [
  {
   "cell_type": "markdown",
   "metadata": {},
   "source": [
    "Loading Libraries"
   ]
  },
  {
   "cell_type": "code",
   "execution_count": 18,
   "metadata": {},
   "outputs": [],
   "source": [
    "import numpy as np\n",
    "import gensim\n",
    "import pandas as pd\n",
    "from sklearn import model_selection, preprocessing\n",
    "from keras.preprocessing.text import Tokenizer\n",
    "from keras.preprocessing.sequence import pad_sequences"
   ]
  },
  {
   "cell_type": "markdown",
   "metadata": {},
   "source": [
    "Loading Dataset"
   ]
  },
  {
   "cell_type": "code",
   "execution_count": 19,
   "metadata": {},
   "outputs": [],
   "source": [
    "df = pd.read_csv('Dataset.csv')"
   ]
  },
  {
   "cell_type": "markdown",
   "metadata": {},
   "source": [
    "Finding the maximum length of our tweets"
   ]
  },
  {
   "cell_type": "code",
   "execution_count": 20,
   "metadata": {},
   "outputs": [
    {
     "data": {
      "text/plain": [
       "45"
      ]
     },
     "execution_count": 20,
     "metadata": {},
     "output_type": "execute_result"
    }
   ],
   "source": [
    "df['word_count'] = df['clean'].apply(lambda x: len(str(x).split()))\n",
    "max(df['word_count'])"
   ]
  },
  {
   "cell_type": "markdown",
   "metadata": {},
   "source": [
    "Spliting the dataset into 70% training, 30% testing. Notic that we shuffled the data so it won't have a sprcific order."
   ]
  },
  {
   "cell_type": "code",
   "execution_count": 21,
   "metadata": {},
   "outputs": [],
   "source": [
    "# split the dataset into training and test datasets 70% training, 30% testing\n",
    "train_x, test_x, train_y, test_y = model_selection.train_test_split(df['clean'], df['sentiment'], test_size=0.3, random_state = 1)"
   ]
  },
  {
   "cell_type": "markdown",
   "metadata": {},
   "source": [
    "Encoding the labels using preprocessing.LabelEncoder"
   ]
  },
  {
   "cell_type": "code",
   "execution_count": 23,
   "metadata": {},
   "outputs": [],
   "source": [
    "encoder = preprocessing.LabelEncoder()\n",
    "train_y = encoder.fit_transform(train_y)\n",
    "test_y = encoder.fit_transform(test_y)"
   ]
  },
  {
   "cell_type": "markdown",
   "metadata": {},
   "source": [
    "Building the tokenizer to convert the tweets into sequences and pad them to the same length"
   ]
  },
  {
   "cell_type": "code",
   "execution_count": 24,
   "metadata": {},
   "outputs": [],
   "source": [
    "#Tokenize the sentences\n",
    "tokenizer = Tokenizer()\n",
    "\n",
    "#preparing vocabulary\n",
    "tokenizer.fit_on_texts(list(train_x))\n",
    "\n",
    "#converting text into integer sequences\n",
    "train_x_seq  = tokenizer.texts_to_sequences(train_x) \n",
    "test_x_seq = tokenizer.texts_to_sequences(test_x)\n",
    "\n",
    "#padding to prepare sequences of same length\n",
    "train_x_seq  = pad_sequences(train_x_seq, maxlen=45)\n",
    "test_x_seq = pad_sequences(test_x_seq, maxlen=45)"
   ]
  },
  {
   "cell_type": "code",
   "execution_count": 25,
   "metadata": {},
   "outputs": [
    {
     "name": "stdout",
     "output_type": "stream",
     "text": [
      "81074\n"
     ]
    }
   ],
   "source": [
    "size_of_vocabulary=len(tokenizer.word_index) + 1 #+1 for padding\n",
    "print(size_of_vocabulary)"
   ]
  },
  {
   "cell_type": "markdown",
   "metadata": {},
   "source": [
    "# Word Embeddings Using Pre-Traind Model"
   ]
  },
  {
   "cell_type": "markdown",
   "metadata": {},
   "source": [
    "We will use the pre-trained AraVec Model. AraVec Model converts words into 300 dimensional vectors"
   ]
  },
  {
   "cell_type": "code",
   "execution_count": 26,
   "metadata": {},
   "outputs": [
    {
     "name": "stdout",
     "output_type": "stream",
     "text": [
      "We've 331679 vocabularies\n"
     ]
    }
   ],
   "source": [
    "# load the AraVec model\n",
    "trained_model = gensim.models.Word2Vec.load(\"tweet_cbow_300/tweets_cbow_300\")\n",
    "print(\"We've\",len(trained_model.wv.index2word),\"vocabularies\")"
   ]
  },
  {
   "cell_type": "markdown",
   "metadata": {},
   "source": [
    "Loading Word Embeddings"
   ]
  },
  {
   "cell_type": "code",
   "execution_count": 45,
   "metadata": {},
   "outputs": [],
   "source": [
    "# create a weight matrix for words in training docs\n",
    "out_of_vocab = []\n",
    "embedding_matrix = np.zeros((size_of_vocabulary, 300))\n",
    "for index, word in enumerate(tokenizer.word_index):\n",
    "    if word in trained_model.wv:\n",
    "        embedding_vector = trained_model.wv[word]\n",
    "        if embedding_vector is not None:\n",
    "            embedding_matrix[index] = embedding_vector\n",
    "    else:\n",
    "        out_of_vocab.append(word)"
   ]
  },
  {
   "cell_type": "code",
   "execution_count": 47,
   "metadata": {},
   "outputs": [
    {
     "data": {
      "text/plain": [
       "27777"
      ]
     },
     "execution_count": 47,
     "metadata": {},
     "output_type": "execute_result"
    }
   ],
   "source": [
    "len(set(out_of_vocab))"
   ]
  },
  {
   "cell_type": "markdown",
   "metadata": {},
   "source": [
    "Building the model. We will use LSTM model"
   ]
  },
  {
   "cell_type": "code",
   "execution_count": 48,
   "metadata": {},
   "outputs": [
    {
     "name": "stdout",
     "output_type": "stream",
     "text": [
      "Model: \"sequential_8\"\n",
      "_________________________________________________________________\n",
      "Layer (type)                 Output Shape              Param #   \n",
      "=================================================================\n",
      "embedding_8 (Embedding)      (None, 45, 300)           24322200  \n",
      "_________________________________________________________________\n",
      "lstm_8 (LSTM)                (None, 128)               219648    \n",
      "_________________________________________________________________\n",
      "dense_15 (Dense)             (None, 64)                8256      \n",
      "_________________________________________________________________\n",
      "dense_16 (Dense)             (None, 1)                 65        \n",
      "=================================================================\n",
      "Total params: 24,550,169\n",
      "Trainable params: 24,550,169\n",
      "Non-trainable params: 0\n",
      "_________________________________________________________________\n",
      "None\n"
     ]
    }
   ],
   "source": [
    "#deep learning library\n",
    "from keras.models import *\n",
    "from keras.layers import *\n",
    "from keras.callbacks import *\n",
    "\n",
    "model=Sequential()\n",
    "\n",
    "#embedding layer\n",
    "model.add(Embedding(size_of_vocabulary,300,weights=[embedding_matrix],input_length=45,trainable=True)) \n",
    "\n",
    "#lstm layer\n",
    "model.add(LSTM(128))\n",
    "\n",
    "\n",
    "#Dense Layer\n",
    "model.add(Dense(64,activation='relu')) \n",
    "model.add(Dense(1,activation='sigmoid')) \n",
    "\n",
    "#Add loss function, metrics, optimizer\n",
    "model.compile(optimizer='adam', loss='binary_crossentropy',metrics=[\"acc\"]) \n",
    "\n",
    "#Adding callbacks\n",
    "es = EarlyStopping(monitor='val_loss', mode='min', verbose=1,patience=3)  \n",
    "mc=ModelCheckpoint('best_model.h5', monitor='val_acc', mode='max', save_best_only=True,verbose=1)  \n",
    "\n",
    "print(model.summary())"
   ]
  },
  {
   "cell_type": "code",
   "execution_count": 49,
   "metadata": {},
   "outputs": [
    {
     "name": "stderr",
     "output_type": "stream",
     "text": [
      "C:\\Users\\Solom\\AppData\\Local\\Continuum\\anaconda3\\lib\\site-packages\\tensorflow_core\\python\\framework\\indexed_slices.py:433: UserWarning: Converting sparse IndexedSlices to a dense Tensor of unknown shape. This may consume a large amount of memory.\n",
      "  \"Converting sparse IndexedSlices to a dense Tensor of unknown shape. \"\n"
     ]
    },
    {
     "name": "stdout",
     "output_type": "stream",
     "text": [
      "Train on 29374 samples, validate on 12589 samples\n",
      "Epoch 1/10\n",
      "29374/29374 [==============================] - 85s 3ms/step - loss: 0.5585 - acc: 0.6322 - val_loss: 0.4207 - val_acc: 0.6734\n",
      "\n",
      "Epoch 00001: val_acc improved from -inf to 0.67345, saving model to best_model.h5\n",
      "Epoch 2/10\n",
      "29374/29374 [==============================] - 101s 3ms/step - loss: -0.3342 - acc: 0.7062 - val_loss: -0.6500 - val_acc: 0.6682\n",
      "\n",
      "Epoch 00002: val_acc did not improve from 0.67345\n",
      "Epoch 3/10\n",
      "29374/29374 [==============================] - 101s 3ms/step - loss: -9.2545 - acc: 0.7296 - val_loss: -5.7452 - val_acc: 0.6958\n",
      "\n",
      "Epoch 00003: val_acc improved from 0.67345 to 0.69577, saving model to best_model.h5\n",
      "Epoch 4/10\n",
      "29374/29374 [==============================] - 97s 3ms/step - loss: -39.5739 - acc: 0.7441 - val_loss: -12.4228 - val_acc: 0.6852\n",
      "\n",
      "Epoch 00004: val_acc did not improve from 0.69577\n",
      "Epoch 5/10\n",
      "29374/29374 [==============================] - 101s 3ms/step - loss: -115.5334 - acc: 0.7705 - val_loss: -27.6741 - val_acc: 0.6840\n",
      "\n",
      "Epoch 00005: val_acc did not improve from 0.69577\n",
      "Epoch 6/10\n",
      "29374/29374 [==============================] - 95s 3ms/step - loss: -238.9296 - acc: 0.7902 - val_loss: -11.2364 - val_acc: 0.6745\n",
      "\n",
      "Epoch 00006: val_acc did not improve from 0.69577\n",
      "Epoch 7/10\n",
      "29374/29374 [==============================] - 107s 4ms/step - loss: -403.0357 - acc: 0.8067 - val_loss: -9.3986 - val_acc: 0.6711\n",
      "\n",
      "Epoch 00007: val_acc did not improve from 0.69577\n",
      "Epoch 8/10\n",
      "29374/29374 [==============================] - 101s 3ms/step - loss: -597.7573 - acc: 0.8229 - val_loss: 106.8679 - val_acc: 0.6513\n",
      "\n",
      "Epoch 00008: val_acc did not improve from 0.69577\n",
      "Epoch 00008: early stopping\n"
     ]
    }
   ],
   "source": [
    "history = model.fit(np.array(train_x_seq),np.array(train_y),batch_size=256,epochs=10,\n",
    "                    validation_data=(np.array(test_x_seq),np.array(test_y)),callbacks=[es,mc])"
   ]
  },
  {
   "cell_type": "code",
   "execution_count": 50,
   "metadata": {},
   "outputs": [
    {
     "name": "stderr",
     "output_type": "stream",
     "text": [
      "C:\\Users\\Solom\\AppData\\Local\\Continuum\\anaconda3\\lib\\site-packages\\tensorflow_core\\python\\framework\\indexed_slices.py:433: UserWarning: Converting sparse IndexedSlices to a dense Tensor of unknown shape. This may consume a large amount of memory.\n",
      "  \"Converting sparse IndexedSlices to a dense Tensor of unknown shape. \"\n"
     ]
    },
    {
     "name": "stdout",
     "output_type": "stream",
     "text": [
      "12589/12589 [==============================] - 5s 432us/step\n",
      "0.6957661509513855\n"
     ]
    }
   ],
   "source": [
    "#loading best model\n",
    "from keras.models import load_model\n",
    "model = load_model('best_model.h5')\n",
    "\n",
    "#evaluation \n",
    "_,val_acc = model.evaluate(test_x_seq,test_y, batch_size=128)\n",
    "print(val_acc)"
   ]
  },
  {
   "cell_type": "markdown",
   "metadata": {},
   "source": [
    "# Word Embeddings From Scratch"
   ]
  },
  {
   "cell_type": "code",
   "execution_count": 42,
   "metadata": {},
   "outputs": [
    {
     "name": "stdout",
     "output_type": "stream",
     "text": [
      "Model: \"sequential_7\"\n",
      "_________________________________________________________________\n",
      "Layer (type)                 Output Shape              Param #   \n",
      "=================================================================\n",
      "embedding_7 (Embedding)      (None, 45, 300)           24322200  \n",
      "_________________________________________________________________\n",
      "lstm_7 (LSTM)                (None, 128)               219648    \n",
      "_________________________________________________________________\n",
      "dense_13 (Dense)             (None, 64)                8256      \n",
      "_________________________________________________________________\n",
      "dense_14 (Dense)             (None, 1)                 65        \n",
      "=================================================================\n",
      "Total params: 24,550,169\n",
      "Trainable params: 24,550,169\n",
      "Non-trainable params: 0\n",
      "_________________________________________________________________\n",
      "None\n"
     ]
    }
   ],
   "source": [
    "#deep learning library\n",
    "from keras.models import *\n",
    "from keras.layers import *\n",
    "from keras.callbacks import *\n",
    "\n",
    "model=Sequential()\n",
    "\n",
    "#embedding layer\n",
    "model.add(Embedding(size_of_vocabulary,300,input_length=45,trainable=True)) \n",
    "\n",
    "#lstm layer\n",
    "model.add(LSTM(128))\n",
    "\n",
    "\n",
    "#Dense Layer\n",
    "model.add(Dense(64,activation='relu')) \n",
    "model.add(Dense(1,activation='sigmoid')) \n",
    "\n",
    "#Add loss function, metrics, optimizer\n",
    "model.compile(optimizer='adam', loss='binary_crossentropy',metrics=[\"acc\"]) \n",
    "\n",
    "#Adding callbacks\n",
    "es = EarlyStopping(monitor='val_loss', mode='min',patience=3)  \n",
    "mc=ModelCheckpoint('best_model.h5', monitor='val_acc', mode='max', save_best_only=True)  \n",
    "\n",
    "print(model.summary())"
   ]
  },
  {
   "cell_type": "code",
   "execution_count": 43,
   "metadata": {},
   "outputs": [
    {
     "name": "stderr",
     "output_type": "stream",
     "text": [
      "C:\\Users\\Solom\\AppData\\Local\\Continuum\\anaconda3\\lib\\site-packages\\tensorflow_core\\python\\framework\\indexed_slices.py:433: UserWarning: Converting sparse IndexedSlices to a dense Tensor of unknown shape. This may consume a large amount of memory.\n",
      "  \"Converting sparse IndexedSlices to a dense Tensor of unknown shape. \"\n"
     ]
    },
    {
     "name": "stdout",
     "output_type": "stream",
     "text": [
      "Train on 29374 samples, validate on 12589 samples\n",
      "Epoch 1/10\n",
      "29374/29374 [==============================] - 102s 3ms/step - loss: 0.3170 - acc: 0.6817 - val_loss: -0.4927 - val_acc: 0.7114\n",
      "\n",
      "Epoch 00001: val_acc improved from -inf to 0.71141, saving model to best_model.h5\n",
      "Epoch 2/10\n",
      "29374/29374 [==============================] - 105s 4ms/step - loss: -7.9946 - acc: 0.7754 - val_loss: 5.7221 - val_acc: 0.6853\n",
      "\n",
      "Epoch 00002: val_acc did not improve from 0.71141\n",
      "Epoch 3/10\n",
      "29374/29374 [==============================] - 103s 3ms/step - loss: -43.8783 - acc: 0.8164 - val_loss: 2.3317 - val_acc: 0.6844\n",
      "\n",
      "Epoch 00003: val_acc did not improve from 0.71141\n",
      "Epoch 4/10\n",
      "29374/29374 [==============================] - 102s 3ms/step - loss: -104.7294 - acc: 0.8368 - val_loss: -6.6938 - val_acc: 0.6906\n",
      "\n",
      "Epoch 00004: val_acc did not improve from 0.71141\n",
      "Epoch 5/10\n",
      "29374/29374 [==============================] - 103s 3ms/step - loss: -129.9116 - acc: 0.8350 - val_loss: -0.8025 - val_acc: 0.6655\n",
      "\n",
      "Epoch 00005: val_acc did not improve from 0.71141\n",
      "Epoch 6/10\n",
      "29374/29374 [==============================] - 116s 4ms/step - loss: -228.8395 - acc: 0.8488 - val_loss: -16.1804 - val_acc: 0.6729\n",
      "\n",
      "Epoch 00006: val_acc did not improve from 0.71141\n",
      "Epoch 7/10\n",
      "29374/29374 [==============================] - 110s 4ms/step - loss: -344.1486 - acc: 0.8541 - val_loss: 4.3233 - val_acc: 0.6708\n",
      "\n",
      "Epoch 00007: val_acc did not improve from 0.71141\n",
      "Epoch 8/10\n",
      "29374/29374 [==============================] - 106s 4ms/step - loss: -471.3672 - acc: 0.8609 - val_loss: 8.1501 - val_acc: 0.6498\n",
      "\n",
      "Epoch 00008: val_acc did not improve from 0.71141\n",
      "Epoch 9/10\n",
      "29374/29374 [==============================] - 98s 3ms/step - loss: -605.1993 - acc: 0.8670 - val_loss: 70.9160 - val_acc: 0.6533\n",
      "\n",
      "Epoch 00009: val_acc did not improve from 0.71141\n",
      "Epoch 00009: early stopping\n"
     ]
    }
   ],
   "source": [
    "history = model.fit(np.array(train_x_seq),np.array(train_y),batch_size=256,epochs=10,\n",
    "                    validation_data=(np.array(test_x_seq),np.array(test_y)),callbacks=[es,mc])"
   ]
  },
  {
   "cell_type": "code",
   "execution_count": 44,
   "metadata": {},
   "outputs": [
    {
     "name": "stderr",
     "output_type": "stream",
     "text": [
      "C:\\Users\\Solom\\AppData\\Local\\Continuum\\anaconda3\\lib\\site-packages\\tensorflow_core\\python\\framework\\indexed_slices.py:433: UserWarning: Converting sparse IndexedSlices to a dense Tensor of unknown shape. This may consume a large amount of memory.\n",
      "  \"Converting sparse IndexedSlices to a dense Tensor of unknown shape. \"\n"
     ]
    },
    {
     "name": "stdout",
     "output_type": "stream",
     "text": [
      "12589/12589 [==============================] - 6s 488us/step\n",
      "0.7114147543907166\n"
     ]
    }
   ],
   "source": [
    "#loading best model\n",
    "from keras.models import load_model\n",
    "model = load_model('best_model.h5')\n",
    "\n",
    "#evaluation \n",
    "_,val_acc = model.evaluate(test_x_seq,test_y, batch_size=128)\n",
    "print(val_acc)"
   ]
  },
  {
   "cell_type": "code",
   "execution_count": null,
   "metadata": {},
   "outputs": [],
   "source": []
  }
 ],
 "metadata": {
  "kernelspec": {
   "display_name": "Python 3",
   "language": "python",
   "name": "python3"
  },
  "language_info": {
   "codemirror_mode": {
    "name": "ipython",
    "version": 3
   },
   "file_extension": ".py",
   "mimetype": "text/x-python",
   "name": "python",
   "nbconvert_exporter": "python",
   "pygments_lexer": "ipython3",
   "version": "3.7.4"
  }
 },
 "nbformat": 4,
 "nbformat_minor": 4
}
