{
 "cells": [
  {
   "cell_type": "code",
   "execution_count": 3,
   "metadata": {},
   "outputs": [],
   "source": [
    "import pandas as pd\n",
    "import re\n",
    "from nltk import word_tokenize\n",
    "from nltk.stem.isri import ISRIStemmer\n",
    "from nltk.corpus import stopwords\n",
    "import string\n",
    "import tashaphyne.arabic_const as arabconst"
   ]
  },
  {
   "cell_type": "code",
   "execution_count": 4,
   "metadata": {},
   "outputs": [],
   "source": [
    "def normalizeArabic(text):\n",
    "    # Remove Tashkeel\n",
    "    text = arabconst.HARAKAT_PAT.sub('', text)\n",
    "    # Remove Repeated Characters\n",
    "    text = re.sub(r'(.)\\1+', r'\\1', text)\n",
    "    text = re.sub(\"[إأٱآا]\", \"ا\", text)\n",
    "    text = re.sub(\"ى\", \"ي\", text)\n",
    "    text = re.sub(\"ؤ\", \"ء\", text)\n",
    "    text = re.sub(\"ئ\", \"ء\", text)\n",
    "    text = re.sub(\"ة\", \"ه\", text)\n",
    "    return text"
   ]
  },
  {
   "cell_type": "code",
   "execution_count": 5,
   "metadata": {},
   "outputs": [],
   "source": [
    "stop_words = [normalizeArabic(x) for x in stopwords.words('arabic')]\n",
    "st = ISRIStemmer()"
   ]
  },
  {
   "cell_type": "code",
   "execution_count": null,
   "metadata": {},
   "outputs": [],
   "source": [
    "def remove_single_chars(text):\n",
    "    words = text.split(\" \")\n",
    "    text = \" \".join([word for word in words if len(word) > 1])\n",
    "    return text"
   ]
  },
  {
   "cell_type": "code",
   "execution_count": null,
   "metadata": {},
   "outputs": [],
   "source": [
    "def clean(text):\n",
    "    text = normalizeArabic(text)\n",
    "    # Remove Punctuations\n",
    "    arabic_punctuations = '''`÷×؛<>_()*&^%][ـ،/:\"؟.,'{}~¦+|!”…“–ـ'''\n",
    "    english_punctuations = string.punctuation\n",
    "    punctuations_list = arabic_punctuations + english_punctuations\n",
    "    text = text.translate(str.maketrans('', '', punctuations_list))\n",
    "    # Remove Hashtag Signs\n",
    "    text = re.sub(r\"#\", \" \", text)\n",
    "    # Remove URLs, Mentions, Trailing Non-Whitespaces Characters\n",
    "    text = re.sub(r\"(?:\\@|https?\\://)\\S+\", \" \", text)\n",
    "    # Remove Numbers\n",
    "    text = re.sub(r\"\\d+\", \" \", text)\n",
    "    # Remove English Characters\n",
    "    text = re.sub(r\"[A-Z|a-z]+\", \" \", text)\n",
    "    # Remove Single Characters\n",
    "    text = remove_single_chars(text)\n",
    "    # Remove Stop Words\n",
    "    text = \" \".join([word for word in word_tokenize(text) if not word in stop_words])\n",
    "    return str(text)\n",
    "    "
   ]
  },
  {
   "cell_type": "code",
   "execution_count": null,
   "metadata": {},
   "outputs": [],
   "source": [
    "def stem(text):\n",
    "    # Stemming\n",
    "    text = \" \".join([st.stem(word)for word in word_tokenize(text)])\n",
    "    return text"
   ]
  }
 ],
 "metadata": {
  "kernelspec": {
   "display_name": "Python 3 (ipykernel)",
   "language": "python",
   "name": "python3"
  },
  "language_info": {
   "codemirror_mode": {
    "name": "ipython",
    "version": 3
   },
   "file_extension": ".py",
   "mimetype": "text/x-python",
   "name": "python",
   "nbconvert_exporter": "python",
   "pygments_lexer": "ipython3",
   "version": "3.9.7"
  }
 },
 "nbformat": 4,
 "nbformat_minor": 2
}
